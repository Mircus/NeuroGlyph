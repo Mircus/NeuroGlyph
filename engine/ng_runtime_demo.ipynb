{
  "cells": [
    {
      "cell_type": "markdown",
      "metadata": {},
      "source": [
        "# \ud83e\udde0 NeuroGlyph Engine Runtime Demo\n",
        "\n",
        "This notebook demonstrates how to execute NeuroGlyph acts using the NG Engine Runtime.\n",
        "\n",
        "We'll parse a symbolic NG script, invoke a LangChain agent, and simulate a deliverable.\n"
      ]
    },
    {
      "cell_type": "code",
      "execution_count": null,
      "metadata": {},
      "outputs": [],
      "source": [
        "# Step 1: Import runtime and initialize\n",
        "from ng_engine.runtime import NGRuntime\n",
        "\n",
        "runtime = NGRuntime()"
      ]
    },
    {
      "cell_type": "markdown",
      "metadata": {},
      "source": [
        "## \ud83d\udd0d Sample NeuroGlyph Input\n",
        "Below is a symbolic act involving two agents discussing a topic with a deliverable output."
      ]
    },
    {
      "cell_type": "code",
      "execution_count": null,
      "metadata": {},
      "outputs": [],
      "source": [
        "# Step 2: Provide a symbolic NG input\n",
        "ng_input = '''\n",
        "\ud83d\ude80 compare\n",
        "\ud83d\udc41\ufe0f ritual forms of relationality across archaic cultures\n",
        "\ud83e\udde0 [agent_ethno ; agent_philo]\n",
        "\ud83c\udfaf [agent_philo:(create symbolic map of pre-linguistic gestures) ; agent_ethno:(trace historical instances of the \u201cknot\u201d gesture)]\n",
        "\ud83e\uddd1\u200d\ud83c\udf93 human_sofia\n",
        "\ud83d\udde3\ufe0f human_sofia \u2192 intervene:(gestures encode epistemic relations as well)\n",
        "\ud83d\udd04 align intents [agent_ethno ; agent_philo]\n",
        "\ud83e\udea2 knot gesture\n",
        "\ud83c\udf10 [\ud83e\udea2 \u2192 \ud83e\udd1d \u2192 \ud83e\udde0 \u2192 \ud83d\udd17 \u2192 \ud83d\udd4a\ufe0f]\n",
        "\ud83d\udce6 annotated symbolic map\n",
        "\ud83d\udd01 [agent_philo: update comparative ontology ; agent_ethno: gain structural mapping ; human_sofia: propose digital ritual extension]\n",
        "\u2728 emergent gliph: \ud83e\uddec\ud83d\udcbe\ud83e\udea2\n",
        "'''\n",
        "\n",
        "result = runtime.execute(ng_input)\n",
        "print(\"\\n\ud83e\udde0 Result:\", result)"
      ]
    }
  ],
  "metadata": {
    "kernelspec": {
      "display_name": "Python 3",
      "language": "python",
      "name": "python3"
    },
    "language_info": {
      "name": "python"
    }
  },
  "nbformat": 4,
  "nbformat_minor": 5
}
